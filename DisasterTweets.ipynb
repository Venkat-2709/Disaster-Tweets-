{
 "cells": [
  {
   "cell_type": "markdown",
   "id": "d10d8eae",
   "metadata": {},
   "source": [
    "## Importing the Libraries"
   ]
  },
  {
   "cell_type": "code",
   "execution_count": 47,
   "id": "5a1f467d",
   "metadata": {},
   "outputs": [
    {
     "name": "stderr",
     "output_type": "stream",
     "text": [
      "[nltk_data] Downloading package punkt to\n",
      "[nltk_data]     C:\\Users\\Venkat\\AppData\\Roaming\\nltk_data...\n",
      "[nltk_data]   Package punkt is already up-to-date!\n",
      "[nltk_data] Downloading package stopwords to\n",
      "[nltk_data]     C:\\Users\\Venkat\\AppData\\Roaming\\nltk_data...\n",
      "[nltk_data]   Package stopwords is already up-to-date!\n",
      "[nltk_data] Downloading package wordnet to\n",
      "[nltk_data]     C:\\Users\\Venkat\\AppData\\Roaming\\nltk_data...\n",
      "[nltk_data]   Package wordnet is already up-to-date!\n"
     ]
    },
    {
     "data": {
      "text/plain": [
       "True"
      ]
     },
     "execution_count": 47,
     "metadata": {},
     "output_type": "execute_result"
    }
   ],
   "source": [
    "# Importing required libraries\n",
    "import re\n",
    "import string\n",
    "import nltk\n",
    "import graphviz\n",
    "import pydot\n",
    "import pandas as pd\n",
    "import numpy as np\n",
    "import matplotlib.pyplot as plt\n",
    "import seaborn as sns\n",
    "import transformers\n",
    "import bert\n",
    "import tensorflow as tf\n",
    "import tensorflow_hub as hub\n",
    "\n",
    "from transformers import BertModel, BertTokenizer, AdamW, get_linear_schedule_with_warmup, TFBertForSequenceClassification\n",
    "from nltk.stem import WordNetLemmatizer\n",
    "from gensim.models import fasttext\n",
    "from gensim.models.fasttext import FastText\n",
    "from sklearn.decomposition import PCA\n",
    "from sklearn.manifold import TSNE\n",
    "from sklearn.model_selection import train_test_split\n",
    "from sklearn.metrics import classification_report, confusion_matrix, ConfusionMatrixDisplay\n",
    "from tensorflow.keras.preprocessing.text import one_hot\n",
    "from tensorflow.keras.preprocessing.sequence import pad_sequences\n",
    "from keras.utils.vis_utils import plot_model\n",
    "\n",
    "nltk.download('punkt')\n",
    "nltk.download('stopwords')\n",
    "nltk.download('wordnet')"
   ]
  },
  {
   "cell_type": "markdown",
   "id": "46854fb0",
   "metadata": {},
   "source": [
    "# Disaster Tweets Analysis\n",
    "\n",
    "   Classification of the tweets whether the tweet is about a disaster that happened or whether it is just normal tweet."
   ]
  },
  {
   "cell_type": "markdown",
   "id": "39cf49fd",
   "metadata": {},
   "source": [
    "## Loading the Dataset"
   ]
  },
  {
   "cell_type": "code",
   "execution_count": 2,
   "id": "4efe443e",
   "metadata": {},
   "outputs": [
    {
     "data": {
      "text/plain": [
       "(   id keyword location                                               text  \\\n",
       " 0   1     NaN      NaN  Our Deeds are the Reason of this #earthquake M...   \n",
       " 1   4     NaN      NaN             Forest fire near La Ronge Sask. Canada   \n",
       " 2   5     NaN      NaN  All residents asked to 'shelter in place' are ...   \n",
       " 3   6     NaN      NaN  13,000 people receive #wildfires evacuation or...   \n",
       " 4   7     NaN      NaN  Just got sent this photo from Ruby #Alaska as ...   \n",
       " \n",
       "    target  \n",
       " 0       1  \n",
       " 1       1  \n",
       " 2       1  \n",
       " 3       1  \n",
       " 4       1  ,\n",
       "    id keyword location                                               text\n",
       " 0   0     NaN      NaN                 Just happened a terrible car crash\n",
       " 1   2     NaN      NaN  Heard about #earthquake is different cities, s...\n",
       " 2   3     NaN      NaN  there is a forest fire at spot pond, geese are...\n",
       " 3   9     NaN      NaN           Apocalypse lighting. #Spokane #wildfires\n",
       " 4  11     NaN      NaN      Typhoon Soudelor kills 28 in China and Taiwan)"
      ]
     },
     "execution_count": 2,
     "metadata": {},
     "output_type": "execute_result"
    }
   ],
   "source": [
    "# Loading the Dataset\n",
    "train_data = pd.read_csv('train.csv')\n",
    "test_data = pd.read_csv('test.csv')\n",
    "train_data.head(), test_data.head()"
   ]
  },
  {
   "cell_type": "markdown",
   "id": "e59c5433",
   "metadata": {},
   "source": [
    "## Exploring the Data "
   ]
  },
  {
   "cell_type": "code",
   "execution_count": 3,
   "id": "ce4e7bd0",
   "metadata": {},
   "outputs": [],
   "source": [
    "# Function to explore the types of data and missing values in the dataset\n",
    "def data_explore(data, train=1):\n",
    "    print('Number of inputs in data: ' + str(len(data)))\n",
    "    print('Number of missing value in each column: \\n', data.isnull().sum())\n",
    "    \n",
    "    if train:\n",
    "        data['target'].value_counts().plot(kind='bar', title='Target Distribution')\n",
    "        \n",
    "    keyword_percent = ((data['keyword'].isnull().sum()) / len(data)) * 100\n",
    "    location_percent = float(((data['location'].isnull().sum()) / len(data)) * 100)\n",
    "    \n",
    "    print('Unique number of Keywords: ', str(data['keyword'].nunique()))\n",
    "    print('Unique number of Locations: ', str(data['location'].nunique()))\n",
    "\n",
    "    print('Percentage of missing values in Keyword Column: ', str(keyword_percent))\n",
    "    print('Percentage of missing values in Location Column: ', str(location_percent))"
   ]
  },
  {
   "cell_type": "code",
   "execution_count": 4,
   "id": "8a3127c9",
   "metadata": {},
   "outputs": [
    {
     "name": "stdout",
     "output_type": "stream",
     "text": [
      "Number of inputs in data: 7613\n",
      "Number of missing value in each column: \n",
      " id             0\n",
      "keyword       61\n",
      "location    2533\n",
      "text           0\n",
      "target         0\n",
      "dtype: int64\n",
      "Unique number of Keywords:  221\n",
      "Unique number of Locations:  3341\n",
      "Percentage of missing values in Keyword Column:  0.8012610009194797\n",
      "Percentage of missing values in Location Column:  33.27203467752528\n"
     ]
    },
    {
     "data": {
      "image/png": "[encoded data removed]",
      "text/plain": [
       "<Figure size 432x288 with 1 Axes>"
      ]
     },
     "metadata": {
      "needs_background": "light"
     },
     "output_type": "display_data"
    }
   ],
   "source": [
    "# Training set\n",
    "data_explore(train_data)"
   ]
  },
  {
   "cell_type": "code",
   "execution_count": 5,
   "id": "afcc09b2",
   "metadata": {},
   "outputs": [
    {
     "name": "stdout",
     "output_type": "stream",
     "text": [
      "Number of inputs in data: 3263\n",
      "Number of missing value in each column: \n",
      " id             0\n",
      "keyword       26\n",
      "location    1105\n",
      "text           0\n",
      "dtype: int64\n",
      "Unique number of Keywords:  221\n",
      "Unique number of Locations:  1602\n",
      "Percentage of missing values in Keyword Column:  0.796812749003984\n",
      "Percentage of missing values in Location Column:  33.86454183266932\n"
     ]
    }
   ],
   "source": [
    "# test set\n",
    "data_explore(test_data, 0)"
   ]
  },
  {
   "cell_type": "markdown",
   "id": "ea671b0b",
   "metadata": {},
   "source": [
    "## Plotting the data distribution"
   ]
  },
  {
   "cell_type": "code",
   "execution_count": 6,
   "id": "0b02db8b",
   "metadata": {},
   "outputs": [
    {
     "data": {
      "text/plain": [
       "Text(0.5, 1.0, 'Location Distribution for train')"
      ]
     },
     "execution_count": 6,
     "metadata": {},
     "output_type": "execute_result"
    },
    {
     "data": {
      "image/png": "[encoded data removed]",
      "text/plain": [
       "<Figure size 432x288 with 1 Axes>"
      ]
     },
     "metadata": {
      "needs_background": "light"
     },
     "output_type": "display_data"
    }
   ],
   "source": [
    "# Graph for Train set for location distribution\n",
    "sns.barplot(y=train_data['location'].value_counts()[:10].index, \n",
    "            x=train_data['location'].value_counts()[:10],\n",
    "            orient='h').set_title('Location Distribution for train')"
   ]
  },
  {
   "cell_type": "code",
   "execution_count": 7,
   "id": "10b52c3a",
   "metadata": {},
   "outputs": [
    {
     "data": {
      "text/plain": [
       "Text(0.5, 1.0, 'Location Distribution for test')"
      ]
     },
     "execution_count": 7,
     "metadata": {},
     "output_type": "execute_result"
    },
    {
     "data": {
      "image/png": "[encoded data removed]",
      "text/plain": [
       "<Figure size 432x288 with 1 Axes>"
      ]
     },
     "metadata": {
      "needs_background": "light"
     },
     "output_type": "display_data"
    }
   ],
   "source": [
    "# Graph for Test set for location distribution\n",
    "sns.barplot(y=test_data['location'].value_counts()[:10].index, \n",
    "            x=test_data['location'].value_counts()[:10],\n",
    "            orient='h').set_title('Location Distribution for test')"
   ]
  },
  {
   "cell_type": "markdown",
   "id": "edd9ac4f",
   "metadata": {},
   "source": [
    "## Preprocessing the text data for One Hot Encoding"
   ]
  },
  {
   "cell_type": "code",
   "execution_count": 8,
   "id": "e8b00935",
   "metadata": {},
   "outputs": [],
   "source": [
    "# Preprocessing text into input format\n",
    "def preprocess(text):\n",
    "    # Removing Punctuation from the text\n",
    "    punct = [words for words in text if words not in string.punctuation ]\n",
    "    words = ''.join(punct)\n",
    "    \n",
    "    # Tokenizing the text\n",
    "    tokens = nltk.word_tokenize(words)\n",
    "    \n",
    "    # Removing the stopwords\n",
    "    stopwords = nltk.corpus.stopwords.words('english')\n",
    "    stop_tokens = [word for word in tokens if word not in stopwords]\n",
    "    stop_tokens = [word.lower() for word in stop_tokens]\n",
    "    \n",
    "    # Appying Lemmatization to the tokens\n",
    "    lemmatizer = WordNetLemmatizer()\n",
    "    lemmatized_output = ' '.join([lemmatizer.lemmatize(w) for w in stop_tokens])\n",
    "    \n",
    "    # Removing emojis, emails, numbers\n",
    "    \n",
    "    text = re.sub(r'^https?:\\/\\/.*[\\r\\n]*', '', lemmatized_output, flags=re.MULTILINE)\n",
    "    text = re.sub('<.*?>+', '', text)\n",
    "    \n",
    "    regrex_pattern = re.compile(pattern = \"[\"\n",
    "        u\"\\U0001F600-\\U0001F64F\" \n",
    "        u\"\\U0001F300-\\U0001F5FF\"  \n",
    "        u\"\\U0001F680-\\U0001F6FF\"  \n",
    "        u\"\\U0001F1E0-\\U0001F1FF\"  \n",
    "                           \"]+\", flags = re.UNICODE)\n",
    "    \n",
    "    text = regrex_pattern.sub(r'',text)\n",
    "    text = ''.join([i for i in text if not i.isdigit()])\n",
    "    \n",
    "    return text"
   ]
  },
  {
   "cell_type": "code",
   "execution_count": 9,
   "id": "e9659886",
   "metadata": {},
   "outputs": [],
   "source": [
    "train_data['preprocess_text'] = train_data['text'].apply(lambda x: preprocess(x))\n",
    "test_data['preprocess_text'] = test_data['text'].apply(lambda x: preprocess(x))"
   ]
  },
  {
   "cell_type": "code",
   "execution_count": 10,
   "id": "799c1631",
   "metadata": {},
   "outputs": [
    {
     "data": {
      "text/html": [
       "<div>\n",
       "<style scoped>\n",
       "    .dataframe tbody tr th:only-of-type {\n",
       "        vertical-align: middle;\n",
       "    }\n",
       "\n",
       "    .dataframe tbody tr th {\n",
       "        vertical-align: top;\n",
       "    }\n",
       "\n",
       "    .dataframe thead th {\n",
       "        text-align: right;\n",
       "    }\n",
       "</style>\n",
       "<table border=\"1\" class=\"dataframe\">\n",
       "  <thead>\n",
       "    <tr style=\"text-align: right;\">\n",
       "      <th></th>\n",
       "      <th>id</th>\n",
       "      <th>keyword</th>\n",
       "      <th>location</th>\n",
       "      <th>text</th>\n",
       "      <th>target</th>\n",
       "      <th>preprocess_text</th>\n",
       "    </tr>\n",
       "  </thead>\n",
       "  <tbody>\n",
       "    <tr>\n",
       "      <th>0</th>\n",
       "      <td>1</td>\n",
       "      <td>NaN</td>\n",
       "      <td>NaN</td>\n",
       "      <td>Our Deeds are the Reason of this #earthquake M...</td>\n",
       "      <td>1</td>\n",
       "      <td>our deed reason earthquake may allah forgive u</td>\n",
       "    </tr>\n",
       "    <tr>\n",
       "      <th>1</th>\n",
       "      <td>4</td>\n",
       "      <td>NaN</td>\n",
       "      <td>NaN</td>\n",
       "      <td>Forest fire near La Ronge Sask. Canada</td>\n",
       "      <td>1</td>\n",
       "      <td>forest fire near la ronge sask canada</td>\n",
       "    </tr>\n",
       "    <tr>\n",
       "      <th>2</th>\n",
       "      <td>5</td>\n",
       "      <td>NaN</td>\n",
       "      <td>NaN</td>\n",
       "      <td>All residents asked to 'shelter in place' are ...</td>\n",
       "      <td>1</td>\n",
       "      <td>all resident asked shelter place notified offi...</td>\n",
       "    </tr>\n",
       "    <tr>\n",
       "      <th>3</th>\n",
       "      <td>6</td>\n",
       "      <td>NaN</td>\n",
       "      <td>NaN</td>\n",
       "      <td>13,000 people receive #wildfires evacuation or...</td>\n",
       "      <td>1</td>\n",
       "      <td>people receive wildfire evacuation order cali...</td>\n",
       "    </tr>\n",
       "    <tr>\n",
       "      <th>4</th>\n",
       "      <td>7</td>\n",
       "      <td>NaN</td>\n",
       "      <td>NaN</td>\n",
       "      <td>Just got sent this photo from Ruby #Alaska as ...</td>\n",
       "      <td>1</td>\n",
       "      <td>just got sent photo ruby alaska smoke wildfire...</td>\n",
       "    </tr>\n",
       "  </tbody>\n",
       "</table>\n",
       "</div>"
      ],
      "text/plain": [
       "   id keyword location                                               text  \\\n",
       "0   1     NaN      NaN  Our Deeds are the Reason of this #earthquake M...   \n",
       "1   4     NaN      NaN             Forest fire near La Ronge Sask. Canada   \n",
       "2   5     NaN      NaN  All residents asked to 'shelter in place' are ...   \n",
       "3   6     NaN      NaN  13,000 people receive #wildfires evacuation or...   \n",
       "4   7     NaN      NaN  Just got sent this photo from Ruby #Alaska as ...   \n",
       "\n",
       "   target                                    preprocess_text  \n",
       "0       1     our deed reason earthquake may allah forgive u  \n",
       "1       1              forest fire near la ronge sask canada  \n",
       "2       1  all resident asked shelter place notified offi...  \n",
       "3       1   people receive wildfire evacuation order cali...  \n",
       "4       1  just got sent photo ruby alaska smoke wildfire...  "
      ]
     },
     "execution_count": 10,
     "metadata": {},
     "output_type": "execute_result"
    }
   ],
   "source": [
    "# Preprocessed training data\n",
    "train_data.head()"
   ]
  },
  {
   "cell_type": "code",
   "execution_count": 11,
   "id": "976067ce",
   "metadata": {},
   "outputs": [
    {
     "data": {
      "text/html": [
       "<div>\n",
       "<style scoped>\n",
       "    .dataframe tbody tr th:only-of-type {\n",
       "        vertical-align: middle;\n",
       "    }\n",
       "\n",
       "    .dataframe tbody tr th {\n",
       "        vertical-align: top;\n",
       "    }\n",
       "\n",
       "    .dataframe thead th {\n",
       "        text-align: right;\n",
       "    }\n",
       "</style>\n",
       "<table border=\"1\" class=\"dataframe\">\n",
       "  <thead>\n",
       "    <tr style=\"text-align: right;\">\n",
       "      <th></th>\n",
       "      <th>id</th>\n",
       "      <th>keyword</th>\n",
       "      <th>location</th>\n",
       "      <th>text</th>\n",
       "      <th>preprocess_text</th>\n",
       "    </tr>\n",
       "  </thead>\n",
       "  <tbody>\n",
       "    <tr>\n",
       "      <th>0</th>\n",
       "      <td>0</td>\n",
       "      <td>NaN</td>\n",
       "      <td>NaN</td>\n",
       "      <td>Just happened a terrible car crash</td>\n",
       "      <td>just happened terrible car crash</td>\n",
       "    </tr>\n",
       "    <tr>\n",
       "      <th>1</th>\n",
       "      <td>2</td>\n",
       "      <td>NaN</td>\n",
       "      <td>NaN</td>\n",
       "      <td>Heard about #earthquake is different cities, s...</td>\n",
       "      <td>heard earthquake different city stay safe ever...</td>\n",
       "    </tr>\n",
       "    <tr>\n",
       "      <th>2</th>\n",
       "      <td>3</td>\n",
       "      <td>NaN</td>\n",
       "      <td>NaN</td>\n",
       "      <td>there is a forest fire at spot pond, geese are...</td>\n",
       "      <td>forest fire spot pond goose fleeing across str...</td>\n",
       "    </tr>\n",
       "    <tr>\n",
       "      <th>3</th>\n",
       "      <td>9</td>\n",
       "      <td>NaN</td>\n",
       "      <td>NaN</td>\n",
       "      <td>Apocalypse lighting. #Spokane #wildfires</td>\n",
       "      <td>apocalypse lighting spokane wildfire</td>\n",
       "    </tr>\n",
       "    <tr>\n",
       "      <th>4</th>\n",
       "      <td>11</td>\n",
       "      <td>NaN</td>\n",
       "      <td>NaN</td>\n",
       "      <td>Typhoon Soudelor kills 28 in China and Taiwan</td>\n",
       "      <td>typhoon soudelor kill  china taiwan</td>\n",
       "    </tr>\n",
       "  </tbody>\n",
       "</table>\n",
       "</div>"
      ],
      "text/plain": [
       "   id keyword location                                               text  \\\n",
       "0   0     NaN      NaN                 Just happened a terrible car crash   \n",
       "1   2     NaN      NaN  Heard about #earthquake is different cities, s...   \n",
       "2   3     NaN      NaN  there is a forest fire at spot pond, geese are...   \n",
       "3   9     NaN      NaN           Apocalypse lighting. #Spokane #wildfires   \n",
       "4  11     NaN      NaN      Typhoon Soudelor kills 28 in China and Taiwan   \n",
       "\n",
       "                                     preprocess_text  \n",
       "0                   just happened terrible car crash  \n",
       "1  heard earthquake different city stay safe ever...  \n",
       "2  forest fire spot pond goose fleeing across str...  \n",
       "3               apocalypse lighting spokane wildfire  \n",
       "4                typhoon soudelor kill  china taiwan  "
      ]
     },
     "execution_count": 11,
     "metadata": {},
     "output_type": "execute_result"
    }
   ],
   "source": [
    "# Preprocessed test data\n",
    "test_data.head()"
   ]
  },
  {
   "cell_type": "code",
   "execution_count": 12,
   "id": "49bff7a6",
   "metadata": {},
   "outputs": [
    {
     "data": {
      "text/plain": [
       "7613"
      ]
     },
     "execution_count": 12,
     "metadata": {},
     "output_type": "execute_result"
    }
   ],
   "source": [
    "# Converting the each input into one hot representation\n",
    "representation = [one_hot(sentence, 100000) for sentence in train_data['preprocess_text']]\n",
    "len(representation)"
   ]
  },
  {
   "cell_type": "code",
   "execution_count": 13,
   "id": "d297b6e6",
   "metadata": {},
   "outputs": [
    {
     "data": {
      "text/plain": [
       "array([[    0,     0,     0, ..., 52372, 51821, 27442],\n",
       "       [    0,     0,     0, ..., 78944, 93814, 89213],\n",
       "       [    0,     0, 28696, ..., 56901, 69445, 24106],\n",
       "       ...,\n",
       "       [    0,     0,     0, ..., 64827, 90916, 84994],\n",
       "       [    0, 48135, 36286, ..., 65189, 10857, 35290],\n",
       "       [    0,     0,     0, ..., 36203,  8521, 91594]])"
      ]
     },
     "execution_count": 13,
     "metadata": {},
     "output_type": "execute_result"
    }
   ],
   "source": [
    "# Padding the data and converting all the inputs into same length\n",
    "embedded_matrix = pad_sequences(representation, padding='pre', maxlen=15)\n",
    "embedded_matrix"
   ]
  },
  {
   "cell_type": "code",
   "execution_count": 14,
   "id": "16781082",
   "metadata": {},
   "outputs": [
    {
     "data": {
      "text/plain": [
       "((6090, 15), (1523, 15), (6090,), (1523,))"
      ]
     },
     "execution_count": 14,
     "metadata": {},
     "output_type": "execute_result"
    }
   ],
   "source": [
    "# Train validation split of the training data for validation \n",
    "X_train, X_test, y_train, y_test = train_test_split(embedded_matrix, train_data['target'], test_size=0.2, random_state=42)\n",
    "X_train.shape, X_test.shape, y_train.shape, y_test.shape"
   ]
  },
  {
   "cell_type": "markdown",
   "id": "02ee8905",
   "metadata": {},
   "source": [
    "## Using Bi-Directional LSTM model for prediction"
   ]
  },
  {
   "cell_type": "code",
   "execution_count": 15,
   "id": "91cd7894",
   "metadata": {},
   "outputs": [
    {
     "name": "stdout",
     "output_type": "stream",
     "text": [
      "Model: \"sequential\"\n",
      "_________________________________________________________________\n",
      "Layer (type)                 Output Shape              Param #   \n",
      "=================================================================\n",
      "embedding (Embedding)        (None, None, 64)          6400000   \n",
      "_________________________________________________________________\n",
      "bidirectional (Bidirectional (None, 128)               66048     \n",
      "_________________________________________________________________\n",
      "dense (Dense)                (None, 64)                8256      \n",
      "_________________________________________________________________\n",
      "dense_1 (Dense)              (None, 1)                 65        \n",
      "=================================================================\n",
      "Total params: 6,474,369\n",
      "Trainable params: 6,474,369\n",
      "Non-trainable params: 0\n",
      "_________________________________________________________________\n"
     ]
    }
   ],
   "source": [
    "# Sequential model with embedding layer and BiLSTM Layer for one hot embedding\n",
    "lstm_model_1 = tf.keras.Sequential([\n",
    "    tf.keras.layers.Embedding(\n",
    "        input_dim=100000,\n",
    "        output_dim=64,\n",
    "        mask_zero=True),\n",
    "    tf.keras.layers.Bidirectional(tf.keras.layers.LSTM(64, dropout=0.3, recurrent_dropout=0.2)),\n",
    "    tf.keras.layers.Dense(64, activation='relu'),\n",
    "    tf.keras.layers.Dense(1, activation='sigmoid')\n",
    "])\n",
    "\n",
    "lstm_model_1.compile(loss=tf.keras.losses.BinaryCrossentropy(),\n",
    "              optimizer=tf.keras.optimizers.Adam(1e-4),\n",
    "              metrics=['accuracy'])\n",
    "\n",
    "lstm_model_1.summary()"
   ]
  },
  {
   "cell_type": "code",
   "execution_count": 16,
   "id": "220ead8f",
   "metadata": {},
   "outputs": [
    {
     "name": "stdout",
     "output_type": "stream",
     "text": [
      "Epoch 1/3\n",
      "609/609 [==============================] - 84s 124ms/step - loss: 0.6635 - accuracy: 0.6079 - val_loss: 0.5431 - val_accuracy: 0.7866\n",
      "Epoch 2/3\n",
      "609/609 [==============================] - 74s 121ms/step - loss: 0.4210 - accuracy: 0.8340 - val_loss: 0.4702 - val_accuracy: 0.7991\n",
      "Epoch 3/3\n",
      "609/609 [==============================] - 74s 121ms/step - loss: 0.2878 - accuracy: 0.8936 - val_loss: 0.4941 - val_accuracy: 0.7879\n"
     ]
    }
   ],
   "source": [
    "history = lstm_model_1.fit(X_train, y_train, validation_data=(X_test, y_test), epochs=3, batch_size=10)"
   ]
  },
  {
   "cell_type": "code",
   "execution_count": 17,
   "id": "183b6d44",
   "metadata": {},
   "outputs": [
    {
     "name": "stdout",
     "output_type": "stream",
     "text": [
      "              precision    recall  f1-score   support\n",
      "\n",
      "     Class 0       0.80      0.85      0.82       874\n",
      "     Class 1       0.78      0.71      0.74       649\n",
      "\n",
      "    accuracy                           0.79      1523\n",
      "   macro avg       0.79      0.78      0.78      1523\n",
      "weighted avg       0.79      0.79      0.79      1523\n",
      "\n"
     ]
    },
    {
     "data": {
      "text/plain": [
       "<sklearn.metrics._plot.confusion_matrix.ConfusionMatrixDisplay at 0x2380128e7f0>"
      ]
     },
     "execution_count": 17,
     "metadata": {},
     "output_type": "execute_result"
    },
    {
     "data": {
      "image/png": "[encoded data removed]",
      "text/plain": [
       "<Figure size 432x288 with 2 Axes>"
      ]
     },
     "metadata": {
      "needs_background": "light"
     },
     "output_type": "display_data"
    }
   ],
   "source": [
    "# Performace metrics for LSTM model\n",
    "y_pred = lstm_model_1.predict(X_test)\n",
    "y_pred[y_pred > 0.5] = 1\n",
    "y_pred[y_pred <= 0.5] = 0\n",
    "report_lstm_1 = classification_report(y_test, y_pred, target_names=['Class 0', 'Class 1'])\n",
    "print(report_lstm_1)\n",
    "cm = confusion_matrix(y_true=y_test, y_pred=y_pred)\n",
    "disp = ConfusionMatrixDisplay(confusion_matrix=cm, display_labels=['Negative Class', 'Positive Class'])\n",
    "disp.plot(values_format='d')"
   ]
  },
  {
   "cell_type": "markdown",
   "id": "0333f184",
   "metadata": {},
   "source": [
    "## Preprocessing the data using Fasttext"
   ]
  },
  {
   "cell_type": "code",
   "execution_count": 18,
   "id": "cf13d99f",
   "metadata": {},
   "outputs": [
    {
     "data": {
      "text/html": [
       "<div>\n",
       "<style scoped>\n",
       "    .dataframe tbody tr th:only-of-type {\n",
       "        vertical-align: middle;\n",
       "    }\n",
       "\n",
       "    .dataframe tbody tr th {\n",
       "        vertical-align: top;\n",
       "    }\n",
       "\n",
       "    .dataframe thead th {\n",
       "        text-align: right;\n",
       "    }\n",
       "</style>\n",
       "<table border=\"1\" class=\"dataframe\">\n",
       "  <thead>\n",
       "    <tr style=\"text-align: right;\">\n",
       "      <th></th>\n",
       "      <th>id</th>\n",
       "      <th>keyword</th>\n",
       "      <th>location</th>\n",
       "      <th>text</th>\n",
       "      <th>target</th>\n",
       "      <th>preprocess_text</th>\n",
       "    </tr>\n",
       "  </thead>\n",
       "  <tbody>\n",
       "    <tr>\n",
       "      <th>0</th>\n",
       "      <td>1</td>\n",
       "      <td>NaN</td>\n",
       "      <td>NaN</td>\n",
       "      <td>Our Deeds are the Reason of this #earthquake M...</td>\n",
       "      <td>1</td>\n",
       "      <td>[our, deed, reason, earthquake, may, allah, fo...</td>\n",
       "    </tr>\n",
       "    <tr>\n",
       "      <th>1</th>\n",
       "      <td>4</td>\n",
       "      <td>NaN</td>\n",
       "      <td>NaN</td>\n",
       "      <td>Forest fire near La Ronge Sask. Canada</td>\n",
       "      <td>1</td>\n",
       "      <td>[forest, fire, near, la, ronge, sask, canada]</td>\n",
       "    </tr>\n",
       "    <tr>\n",
       "      <th>2</th>\n",
       "      <td>5</td>\n",
       "      <td>NaN</td>\n",
       "      <td>NaN</td>\n",
       "      <td>All residents asked to 'shelter in place' are ...</td>\n",
       "      <td>1</td>\n",
       "      <td>[all, resident, asked, shelter, place, notifie...</td>\n",
       "    </tr>\n",
       "    <tr>\n",
       "      <th>3</th>\n",
       "      <td>6</td>\n",
       "      <td>NaN</td>\n",
       "      <td>NaN</td>\n",
       "      <td>13,000 people receive #wildfires evacuation or...</td>\n",
       "      <td>1</td>\n",
       "      <td>[people, receive, wildfire, evacuation, order,...</td>\n",
       "    </tr>\n",
       "    <tr>\n",
       "      <th>4</th>\n",
       "      <td>7</td>\n",
       "      <td>NaN</td>\n",
       "      <td>NaN</td>\n",
       "      <td>Just got sent this photo from Ruby #Alaska as ...</td>\n",
       "      <td>1</td>\n",
       "      <td>[just, got, sent, photo, ruby, alaska, smoke, ...</td>\n",
       "    </tr>\n",
       "  </tbody>\n",
       "</table>\n",
       "</div>"
      ],
      "text/plain": [
       "   id keyword location                                               text  \\\n",
       "0   1     NaN      NaN  Our Deeds are the Reason of this #earthquake M...   \n",
       "1   4     NaN      NaN             Forest fire near La Ronge Sask. Canada   \n",
       "2   5     NaN      NaN  All residents asked to 'shelter in place' are ...   \n",
       "3   6     NaN      NaN  13,000 people receive #wildfires evacuation or...   \n",
       "4   7     NaN      NaN  Just got sent this photo from Ruby #Alaska as ...   \n",
       "\n",
       "   target                                    preprocess_text  \n",
       "0       1  [our, deed, reason, earthquake, may, allah, fo...  \n",
       "1       1      [forest, fire, near, la, ronge, sask, canada]  \n",
       "2       1  [all, resident, asked, shelter, place, notifie...  \n",
       "3       1  [people, receive, wildfire, evacuation, order,...  \n",
       "4       1  [just, got, sent, photo, ruby, alaska, smoke, ...  "
      ]
     },
     "execution_count": 18,
     "metadata": {},
     "output_type": "execute_result"
    }
   ],
   "source": [
    "# Preprocessing the text for fasttext\n",
    "train_data['preprocess_text'] = train_data['text'].apply(lambda x: nltk.word_tokenize(preprocess(x)))\n",
    "train_data.head()"
   ]
  },
  {
   "cell_type": "markdown",
   "id": "8a152424",
   "metadata": {},
   "source": [
    "## Training the Fasttext model"
   ]
  },
  {
   "cell_type": "code",
   "execution_count": null,
   "id": "cb4b09bb",
   "metadata": {},
   "outputs": [],
   "source": [
    "# Training the Fasttext Model using the dataset\n",
    "embedding_size = 120\n",
    "window_size = 50\n",
    "min_word = 5\n",
    "down_sampling = 1e-2\n",
    "\n",
    "fast_model = FastText(sentences=train_data['preprocess_text'],\n",
    "                      vector_size=embedding_size,\n",
    "                      window=window_size,\n",
    "                      min_count=min_word,\n",
    "                      sample=down_sampling,\n",
    "                      sg=1,\n",
    "                      epochs=300)\n",
    "\n",
    "fast_model.save('fast_text.model')"
   ]
  },
  {
   "cell_type": "code",
   "execution_count": null,
   "id": "1cafbc77",
   "metadata": {},
   "outputs": [],
   "source": [
    "# Fasttext vector representation for the word\n",
    "print(fast_model.wv['ablaze'], fast_model.wv['ablaze'].shape)"
   ]
  },
  {
   "cell_type": "code",
   "execution_count": 19,
   "id": "b5bef1d8",
   "metadata": {},
   "outputs": [
    {
     "name": "stdout",
     "output_type": "stream",
     "text": [
      "Fasttext Model is loaded\n"
     ]
    }
   ],
   "source": [
    "# Loading the Fasttext model\n",
    "ld_fs_model = FastText.load('fast_text.model')\n",
    "print('Fasttext Model is loaded')"
   ]
  },
  {
   "cell_type": "code",
   "execution_count": 20,
   "id": "f3904d15",
   "metadata": {},
   "outputs": [
    {
     "data": {
      "text/plain": [
       "[('natural', 0.7408626079559326),\n",
       " ('typhoondevastated', 0.5278961658477783),\n",
       " ('declaration', 0.5219874978065491),\n",
       " ('nuclear', 0.516944408416748),\n",
       " ('saipan', 0.4944591224193573),\n",
       " ('nytimes', 0.4886290729045868),\n",
       " ('marians', 0.48073628544807434),\n",
       " ('fukushima', 0.44203171133995056),\n",
       " ('increased', 0.43661612272262573),\n",
       " ('standard', 0.42087066173553467)]"
      ]
     },
     "execution_count": 20,
     "metadata": {},
     "output_type": "execute_result"
    }
   ],
   "source": [
    "# finding the similar words using fasttext\n",
    "ld_fs_model.wv.most_similar('disaster', topn=10)"
   ]
  },
  {
   "cell_type": "code",
   "execution_count": 21,
   "id": "c444523e",
   "metadata": {},
   "outputs": [],
   "source": [
    "# Plotting the fasttext model\n",
    "def tsne_plot(for_word, w2v_model):\n",
    "    # trained fastText model dimention\n",
    "    dim_size = w2v_model.wv.vectors.shape[1]\n",
    " \n",
    "    arrays = np.empty((0, dim_size), dtype='f')\n",
    "    word_labels = [for_word]\n",
    "    color_list  = ['red']\n",
    " \n",
    "    # adds the vector of the query word\n",
    "    arrays = np.append(arrays, w2v_model.wv.__getitem__([for_word]), axis=0)\n",
    " \n",
    "    # gets list of most similar words\n",
    "    sim_words = w2v_model.wv.most_similar(for_word, topn=10)\n",
    " \n",
    "    # adds the vector for each of the closest words to the array\n",
    "    for wrd_score in sim_words:\n",
    "        wrd_vector = w2v_model.wv.__getitem__([wrd_score[0]])\n",
    "        word_labels.append(wrd_score[0])\n",
    "        color_list.append('green')\n",
    "        arrays = np.append(arrays, wrd_vector, axis=0)\n",
    " \n",
    "    # fit 2d PCA model to the similar word vectors\n",
    "    model_pca = PCA(n_components = 10).fit_transform(arrays)\n",
    " \n",
    "    # Finds 2d coordinates t-SNE\n",
    "    np.set_printoptions(suppress=True)\n",
    "    Y = TSNE(n_components=2, random_state=0, perplexity=15).fit_transform(model_pca)\n",
    " \n",
    "    # Sets everything up to plot\n",
    "    df_plot = pd.DataFrame({'x': [x for x in Y[:, 0]],\n",
    "                       'y': [y for y in Y[:, 1]],\n",
    "                       'words_name': word_labels,\n",
    "                       'words_color': color_list})\n",
    " \n",
    "    # plot dots with color and position\n",
    "    plot_dot = sns.regplot(data=df_plot,\n",
    "                     x=\"x\",\n",
    "                     y=\"y\",\n",
    "                     fit_reg=False,\n",
    "                     marker=\"o\",\n",
    "                     scatter_kws={'s': 40,\n",
    "                                  'facecolors': df_plot['words_color']\n",
    "                                 }\n",
    "                    )\n",
    " \n",
    "    # Adds annotations with color one by one with a loop\n",
    "    for line in range(0, df_plot.shape[0]):\n",
    "         plot_dot.text(df_plot[\"x\"][line],\n",
    "                 df_plot['y'][line],\n",
    "                 '  ' + df_plot[\"words_name\"][line].title(),\n",
    "                 horizontalalignment='left',\n",
    "                 verticalalignment='bottom', size='medium',\n",
    "                 color=df_plot['words_color'][line],\n",
    "                 weight='normal'\n",
    "                ).set_size(15)\n",
    " \n",
    " \n",
    "    plt.xlim(Y[:, 0].min()-50, Y[:, 0].max()+50)\n",
    "    plt.ylim(Y[:, 1].min()-50, Y[:, 1].max()+50)\n",
    " \n",
    "    plt.title('t-SNE visualization for word \"{}'.format(for_word.title()) +'\"')"
   ]
  },
  {
   "cell_type": "code",
   "execution_count": 22,
   "id": "16cad5f1",
   "metadata": {},
   "outputs": [
    {
     "data": {
      "image/png": "[encoded data removed]",
      "text/plain": [
       "<Figure size 432x288 with 1 Axes>"
      ]
     },
     "metadata": {
      "needs_background": "light"
     },
     "output_type": "display_data"
    }
   ],
   "source": [
    "tsne_plot('disaster', ld_fs_model)"
   ]
  },
  {
   "cell_type": "code",
   "execution_count": 23,
   "id": "400c706d",
   "metadata": {},
   "outputs": [],
   "source": [
    "# Embedding the word using the fasttext index for each word\n",
    "def embedding_matrix(sentence):\n",
    "    embedding_matrix = np.zeros(len(sentence))\n",
    "    for i, word in enumerate(sentence):\n",
    "        try:\n",
    "            embedding_matrix[i] = ld_fs_model.wv.key_to_index[word]\n",
    "        except:\n",
    "            embedding_matrix[i] = 0\n",
    "            \n",
    "    return embedding_matrix"
   ]
  },
  {
   "cell_type": "code",
   "execution_count": 24,
   "id": "0a4dff89",
   "metadata": {},
   "outputs": [
    {
     "data": {
      "text/plain": [
       "(7613,)"
      ]
     },
     "execution_count": 24,
     "metadata": {},
     "output_type": "execute_result"
    }
   ],
   "source": [
    "X = train_data['preprocess_text'].apply(lambda x: embedding_matrix(x))\n",
    "X.shape"
   ]
  },
  {
   "cell_type": "code",
   "execution_count": 25,
   "id": "050819b4",
   "metadata": {},
   "outputs": [
    {
     "data": {
      "text/plain": [
       "array([[   0.,    0.,    0., ..., 1475.,    0.,    8.],\n",
       "       [   0.,    0.,    0., ...,    0.,    0., 1218.],\n",
       "       [   0.,    0.,    0., ...,  507.,  419., 1042.],\n",
       "       ...,\n",
       "       [   0.,    0.,    0., ...,  484., 1373.,    0.],\n",
       "       [   0.,    0.,    0., ...,    0., 2445.,   96.],\n",
       "       [   0.,    0.,    0., ...,  566.,   14.,    0.]])"
      ]
     },
     "execution_count": 25,
     "metadata": {},
     "output_type": "execute_result"
    }
   ],
   "source": [
    "# Padding the input sequence to get same length for all the inputs\n",
    "embedded_matrix_X = pad_sequences(X, padding='pre', maxlen=50, dtype='float64')\n",
    "embedded_matrix_X"
   ]
  },
  {
   "cell_type": "code",
   "execution_count": 26,
   "id": "d00e3ef5",
   "metadata": {},
   "outputs": [
    {
     "data": {
      "text/plain": [
       "((6090, 50), (1523, 50), (6090,), (1523,))"
      ]
     },
     "execution_count": 26,
     "metadata": {},
     "output_type": "execute_result"
    }
   ],
   "source": [
    "# Train Test split\n",
    "X_train, X_test, y_train, y_test = train_test_split(embedded_matrix_X, train_data['target'], test_size=0.2, random_state=42)\n",
    "X_train.shape, X_test.shape, y_train.shape, y_test.shape"
   ]
  },
  {
   "cell_type": "code",
   "execution_count": 27,
   "id": "e5367ef0",
   "metadata": {},
   "outputs": [
    {
     "name": "stdout",
     "output_type": "stream",
     "text": [
      "Model: \"sequential_1\"\n",
      "_________________________________________________________________\n",
      "Layer (type)                 Output Shape              Param #   \n",
      "=================================================================\n",
      "embedding_1 (Embedding)      (None, None, 64)          6400000   \n",
      "_________________________________________________________________\n",
      "bidirectional_1 (Bidirection (None, 128)               66048     \n",
      "_________________________________________________________________\n",
      "dense_2 (Dense)              (None, 32)                4128      \n",
      "_________________________________________________________________\n",
      "dense_3 (Dense)              (None, 1)                 33        \n",
      "=================================================================\n",
      "Total params: 6,470,209\n",
      "Trainable params: 6,470,209\n",
      "Non-trainable params: 0\n",
      "_________________________________________________________________\n"
     ]
    }
   ],
   "source": [
    "# Sequential model with embedding layer and BiLSTM Layer for fasttext embedding\n",
    "lstm_model_2 = tf.keras.Sequential([\n",
    "    tf.keras.layers.Embedding(\n",
    "        input_dim=100000,\n",
    "        output_dim=64,\n",
    "        mask_zero=True),\n",
    "    tf.keras.layers.Bidirectional(tf.keras.layers.LSTM(64, dropout=0.3, recurrent_dropout=0.2)),\n",
    "    tf.keras.layers.Dense(32, activation='relu'),\n",
    "    tf.keras.layers.Dense(1, activation='sigmoid')\n",
    "])\n",
    "\n",
    "lstm_model_2.compile(loss=tf.keras.losses.BinaryCrossentropy(),\n",
    "              optimizer=tf.keras.optimizers.Adam(5e-5),\n",
    "              metrics=['accuracy'])\n",
    "\n",
    "lstm_model_2.summary()"
   ]
  },
  {
   "cell_type": "code",
   "execution_count": 28,
   "id": "a78829e0",
   "metadata": {},
   "outputs": [
    {
     "name": "stdout",
     "output_type": "stream",
     "text": [
      "Epoch 1/7\n",
      "102/102 [==============================] - 32s 214ms/step - loss: 0.6911 - accuracy: 0.5660 - val_loss: 0.6892 - val_accuracy: 0.5739\n",
      "Epoch 2/7\n",
      "102/102 [==============================] - 21s 201ms/step - loss: 0.6866 - accuracy: 0.5695 - val_loss: 0.6837 - val_accuracy: 0.5739\n",
      "Epoch 3/7\n",
      "102/102 [==============================] - 21s 202ms/step - loss: 0.6780 - accuracy: 0.5696 - val_loss: 0.6716 - val_accuracy: 0.5745\n",
      "Epoch 4/7\n",
      "102/102 [==============================] - 20s 192ms/step - loss: 0.6528 - accuracy: 0.6291 - val_loss: 0.6362 - val_accuracy: 0.6835\n",
      "Epoch 5/7\n",
      "102/102 [==============================] - 21s 202ms/step - loss: 0.5948 - accuracy: 0.7473 - val_loss: 0.5825 - val_accuracy: 0.7800\n",
      "Epoch 6/7\n",
      "102/102 [==============================] - 23s 223ms/step - loss: 0.5216 - accuracy: 0.8169 - val_loss: 0.5326 - val_accuracy: 0.7873\n",
      "Epoch 7/7\n",
      "102/102 [==============================] - 21s 204ms/step - loss: 0.4589 - accuracy: 0.8381 - val_loss: 0.5023 - val_accuracy: 0.7905\n"
     ]
    }
   ],
   "source": [
    "history = lstm_model_2.fit(X_train, y_train, validation_data=(X_test, y_test), epochs=7, batch_size=60)"
   ]
  },
  {
   "cell_type": "code",
   "execution_count": 29,
   "id": "ce255d0e",
   "metadata": {},
   "outputs": [
    {
     "name": "stdout",
     "output_type": "stream",
     "text": [
      "              precision    recall  f1-score   support\n",
      "\n",
      "     Class 0       0.80      0.85      0.82       874\n",
      "     Class 1       0.78      0.71      0.74       649\n",
      "\n",
      "    accuracy                           0.79      1523\n",
      "   macro avg       0.79      0.78      0.78      1523\n",
      "weighted avg       0.79      0.79      0.79      1523\n",
      "\n"
     ]
    },
    {
     "data": {
      "text/plain": [
       "<sklearn.metrics._plot.confusion_matrix.ConfusionMatrixDisplay at 0x2380eb27520>"
      ]
     },
     "execution_count": 29,
     "metadata": {},
     "output_type": "execute_result"
    },
    {
     "data": {
      "image/png": "[encoded data removed]",
      "text/plain": [
       "<Figure size 432x288 with 2 Axes>"
      ]
     },
     "metadata": {
      "needs_background": "light"
     },
     "output_type": "display_data"
    }
   ],
   "source": [
    "# Performace metrics for LSTM model\n",
    "y_pred = lstm_model_2.predict(X_test)\n",
    "y_pred[y_pred > 0.5] = 1\n",
    "y_pred[y_pred <= 0.5] = 0\n",
    "report_lstm_2 = classification_report(y_test, y_pred, target_names=['Class 0', 'Class 1'])\n",
    "print(report_lstm_2)\n",
    "cm = confusion_matrix(y_true=y_test, y_pred=y_pred)\n",
    "disp = ConfusionMatrixDisplay(confusion_matrix=cm, display_labels=['Negative Class', 'Positive Class'])\n",
    "disp.plot(values_format='d')"
   ]
  },
  {
   "cell_type": "markdown",
   "id": "4777f223",
   "metadata": {},
   "source": [
    "## Using BERT Pre-Trained model for preprocessing"
   ]
  },
  {
   "cell_type": "code",
   "execution_count": 30,
   "id": "63818234",
   "metadata": {},
   "outputs": [
    {
     "name": "stderr",
     "output_type": "stream",
     "text": [
      "INFO:absl:Using C:\\Users\\Venkat\\AppData\\Local\\Temp\\tfhub_modules to cache modules.\n"
     ]
    }
   ],
   "source": [
    "# Downloading the BERT Model for tokenization\n",
    "BertTokenizer = bert.bert_tokenization.FullTokenizer\n",
    "bert_layer = hub.KerasLayer(\"https://tfhub.dev/tensorflow/bert_en_uncased_L-12_H-768_A-12/4\",\n",
    "                            trainable=False)\n",
    "vocabulary_file = bert_layer.resolved_object.vocab_file.asset_path.numpy()\n",
    "to_lower_case = bert_layer.resolved_object.do_lower_case.numpy()\n",
    "tokenizer = BertTokenizer(vocabulary_file, to_lower_case)"
   ]
  },
  {
   "cell_type": "code",
   "execution_count": 31,
   "id": "68fc5563",
   "metadata": {},
   "outputs": [],
   "source": [
    "# Loading the Dataset\n",
    "train_data['preprocess_text'] = train_data['text'].apply(lambda x: preprocess(x))"
   ]
  },
  {
   "cell_type": "code",
   "execution_count": 32,
   "id": "aff3f039",
   "metadata": {},
   "outputs": [],
   "source": [
    "# Converting the tokens into token ids\n",
    "def tokenize_reviews(text_reviews):\n",
    "    return tokenizer.convert_tokens_to_ids(tokenizer.wordpiece_tokenizer.tokenize(text_reviews))"
   ]
  },
  {
   "cell_type": "code",
   "execution_count": 33,
   "id": "34ec17ee",
   "metadata": {},
   "outputs": [
    {
     "data": {
      "text/plain": [
       "[1040, 1045, 1055, 1037, 1055, 1056, 1041, 1054]"
      ]
     },
     "execution_count": 33,
     "metadata": {},
     "output_type": "execute_result"
    }
   ],
   "source": [
    "tokens = tokenizer.convert_tokens_to_ids('disaster')\n",
    "tokens"
   ]
  },
  {
   "cell_type": "code",
   "execution_count": 34,
   "id": "a01ae0ad",
   "metadata": {},
   "outputs": [
    {
     "data": {
      "text/plain": [
       "7613"
      ]
     },
     "execution_count": 34,
     "metadata": {},
     "output_type": "execute_result"
    }
   ],
   "source": [
    "X = train_data['preprocess_text'].apply(lambda x: tokenize_reviews(x))\n",
    "len(X)"
   ]
  },
  {
   "cell_type": "code",
   "execution_count": 35,
   "id": "c02281d1",
   "metadata": {},
   "outputs": [
    {
     "data": {
      "text/plain": [
       "(array([[    0.,     0.,     0., ..., 16455.,  9641.,  1057.],\n",
       "        [    0.,     0.,     0., ..., 21871.,  2243.,  2710.],\n",
       "        [    0.,     0.,     0., ...,  2173.,  2344.,  3517.],\n",
       "        ...,\n",
       "        [    0.,     0.,     0., ...,  3207.,  2497.,  3501.],\n",
       "        [    0.,     0.,     0., ..., 15509.,  8701.,  4544.],\n",
       "        [    0.,     0.,     0., ..., 27472.,  4160.,  2094.]]),\n",
       " 30522)"
      ]
     },
     "execution_count": 35,
     "metadata": {},
     "output_type": "execute_result"
    }
   ],
   "source": [
    "# Padding the input sequence to get same length for all the inputs\n",
    "embedded_matrix_bert = pad_sequences(X, padding='pre', maxlen=35, dtype='float64')\n",
    "embedded_matrix_bert, len(tokenizer.vocab)"
   ]
  },
  {
   "cell_type": "code",
   "execution_count": 36,
   "id": "bdbda96c",
   "metadata": {},
   "outputs": [
    {
     "data": {
      "text/plain": [
       "((6090, 35), (1523, 35), (6090,), (1523,))"
      ]
     },
     "execution_count": 36,
     "metadata": {},
     "output_type": "execute_result"
    }
   ],
   "source": [
    "# Train Test split\n",
    "X_train, X_test, y_train, y_test = train_test_split(embedded_matrix_bert, train_data['target'], test_size=0.2, random_state=42)\n",
    "X_train.shape, X_test.shape, y_train.shape, y_test.shape"
   ]
  },
  {
   "cell_type": "code",
   "execution_count": 37,
   "id": "26e5490d",
   "metadata": {},
   "outputs": [
    {
     "name": "stdout",
     "output_type": "stream",
     "text": [
      "Model: \"sequential_2\"\n",
      "_________________________________________________________________\n",
      "Layer (type)                 Output Shape              Param #   \n",
      "=================================================================\n",
      "embedding_2 (Embedding)      (None, None, 128)         3906816   \n",
      "_________________________________________________________________\n",
      "conv1d (Conv1D)              (None, None, 128)         49280     \n",
      "_________________________________________________________________\n",
      "max_pooling1d (MaxPooling1D) (None, None, 128)         0         \n",
      "_________________________________________________________________\n",
      "conv1d_1 (Conv1D)            (None, None, 64)          24640     \n",
      "_________________________________________________________________\n",
      "max_pooling1d_1 (MaxPooling1 (None, None, 64)          0         \n",
      "_________________________________________________________________\n",
      "conv1d_2 (Conv1D)            (None, None, 32)          6176      \n",
      "_________________________________________________________________\n",
      "max_pooling1d_2 (MaxPooling1 (None, None, 32)          0         \n",
      "_________________________________________________________________\n",
      "bidirectional_2 (Bidirection (None, 64)                16640     \n",
      "_________________________________________________________________\n",
      "dense_4 (Dense)              (None, 128)               8320      \n",
      "_________________________________________________________________\n",
      "dense_5 (Dense)              (None, 1)                 129       \n",
      "=================================================================\n",
      "Total params: 4,012,001\n",
      "Trainable params: 4,012,001\n",
      "Non-trainable params: 0\n",
      "_________________________________________________________________\n"
     ]
    }
   ],
   "source": [
    "# Sequential model with embedding layer, Conv1D layer and Bi-LSTM layer for BERT embedding\n",
    "cnn_model = tf.keras.Sequential([\n",
    "    tf.keras.layers.Embedding(\n",
    "        input_dim=30522,\n",
    "        output_dim=128,\n",
    "        mask_zero=True),\n",
    "    tf.keras.layers.Conv1D(filters=128, kernel_size=3, padding='same', activation='relu'),\n",
    "    tf.keras.layers.MaxPooling1D(pool_size=2),\n",
    "    tf.keras.layers.Conv1D(filters=64, kernel_size=3, padding='same', activation='relu'),\n",
    "    tf.keras.layers.MaxPooling1D(pool_size=2),\n",
    "    tf.keras.layers.Conv1D(filters=32, kernel_size=3, padding='same', activation='relu'),\n",
    "    tf.keras.layers.MaxPooling1D(pool_size=2),\n",
    "    tf.keras.layers.Bidirectional(tf.keras.layers.LSTM(32, dropout=0.3, recurrent_dropout=0.2)),\n",
    "    tf.keras.layers.Dense(128, activation='relu'),\n",
    "    tf.keras.layers.Dense(1, activation='sigmoid')\n",
    "])\n",
    "\n",
    "cnn_model.compile(loss=tf.keras.losses.BinaryCrossentropy(),\n",
    "              optimizer=tf.keras.optimizers.Adam(5e-5),\n",
    "              metrics=['accuracy'])\n",
    "\n",
    "cnn_model.summary()"
   ]
  },
  {
   "cell_type": "code",
   "execution_count": 38,
   "id": "b3572d1e",
   "metadata": {},
   "outputs": [
    {
     "name": "stdout",
     "output_type": "stream",
     "text": [
      "Epoch 1/4\n",
      "609/609 [==============================] - 50s 69ms/step - loss: 0.6807 - accuracy: 0.5695 - val_loss: 0.6709 - val_accuracy: 0.5732\n",
      "Epoch 2/4\n",
      "609/609 [==============================] - 39s 63ms/step - loss: 0.6360 - accuracy: 0.6294 - val_loss: 0.5453 - val_accuracy: 0.7551\n",
      "Epoch 3/4\n",
      "609/609 [==============================] - 41s 67ms/step - loss: 0.4189 - accuracy: 0.8269 - val_loss: 0.4552 - val_accuracy: 0.7945\n",
      "Epoch 4/4\n",
      "609/609 [==============================] - 41s 68ms/step - loss: 0.2983 - accuracy: 0.8874 - val_loss: 0.4835 - val_accuracy: 0.7886\n"
     ]
    }
   ],
   "source": [
    "history = cnn_model.fit(X_train, y_train, validation_data=(X_test, y_test), epochs=4, batch_size=10)"
   ]
  },
  {
   "cell_type": "code",
   "execution_count": 39,
   "id": "fa792dbb",
   "metadata": {},
   "outputs": [
    {
     "name": "stdout",
     "output_type": "stream",
     "text": [
      "              precision    recall  f1-score   support\n",
      "\n",
      "     Class 0       0.79      0.85      0.82       874\n",
      "     Class 1       0.78      0.70      0.74       649\n",
      "\n",
      "    accuracy                           0.79      1523\n",
      "   macro avg       0.79      0.78      0.78      1523\n",
      "weighted avg       0.79      0.79      0.79      1523\n",
      "\n"
     ]
    },
    {
     "data": {
      "text/plain": [
       "<sklearn.metrics._plot.confusion_matrix.ConfusionMatrixDisplay at 0x2389b4b3130>"
      ]
     },
     "execution_count": 39,
     "metadata": {},
     "output_type": "execute_result"
    },
    {
     "data": {
      "image/png": "[encoded data removed]",
      "text/plain": [
       "<Figure size 432x288 with 2 Axes>"
      ]
     },
     "metadata": {
      "needs_background": "light"
     },
     "output_type": "display_data"
    }
   ],
   "source": [
    "# Performace metrics for Conv1D and LSTM model\n",
    "y_pred = cnn_model.predict(X_test)\n",
    "y_pred[y_pred > 0.5] = 1\n",
    "y_pred[y_pred <= 0.5] = 0\n",
    "cnn_report = classification_report(y_test, y_pred, target_names=['Class 0', 'Class 1'])\n",
    "print(cnn_report)\n",
    "cm = confusion_matrix(y_true=y_test, y_pred=y_pred)\n",
    "disp = ConfusionMatrixDisplay(confusion_matrix=cm, display_labels=['Negative Class', 'Positive Class'])\n",
    "disp.plot(values_format='d')"
   ]
  },
  {
   "cell_type": "markdown",
   "id": "d038b68a",
   "metadata": {},
   "source": [
    "## BERT Model for Training "
   ]
  },
  {
   "cell_type": "code",
   "execution_count": 40,
   "id": "53783fc1",
   "metadata": {},
   "outputs": [
    {
     "data": {
      "text/html": [
       "<div>\n",
       "<style scoped>\n",
       "    .dataframe tbody tr th:only-of-type {\n",
       "        vertical-align: middle;\n",
       "    }\n",
       "\n",
       "    .dataframe tbody tr th {\n",
       "        vertical-align: top;\n",
       "    }\n",
       "\n",
       "    .dataframe thead th {\n",
       "        text-align: right;\n",
       "    }\n",
       "</style>\n",
       "<table border=\"1\" class=\"dataframe\">\n",
       "  <thead>\n",
       "    <tr style=\"text-align: right;\">\n",
       "      <th></th>\n",
       "      <th>id</th>\n",
       "      <th>keyword</th>\n",
       "      <th>location</th>\n",
       "      <th>text</th>\n",
       "      <th>target</th>\n",
       "    </tr>\n",
       "  </thead>\n",
       "  <tbody>\n",
       "    <tr>\n",
       "      <th>0</th>\n",
       "      <td>1</td>\n",
       "      <td>NaN</td>\n",
       "      <td>NaN</td>\n",
       "      <td>Our Deeds are the Reason of this #earthquake M...</td>\n",
       "      <td>1</td>\n",
       "    </tr>\n",
       "    <tr>\n",
       "      <th>1</th>\n",
       "      <td>4</td>\n",
       "      <td>NaN</td>\n",
       "      <td>NaN</td>\n",
       "      <td>Forest fire near La Ronge Sask. Canada</td>\n",
       "      <td>1</td>\n",
       "    </tr>\n",
       "    <tr>\n",
       "      <th>2</th>\n",
       "      <td>5</td>\n",
       "      <td>NaN</td>\n",
       "      <td>NaN</td>\n",
       "      <td>All residents asked to 'shelter in place' are ...</td>\n",
       "      <td>1</td>\n",
       "    </tr>\n",
       "    <tr>\n",
       "      <th>3</th>\n",
       "      <td>6</td>\n",
       "      <td>NaN</td>\n",
       "      <td>NaN</td>\n",
       "      <td>13,000 people receive #wildfires evacuation or...</td>\n",
       "      <td>1</td>\n",
       "    </tr>\n",
       "    <tr>\n",
       "      <th>4</th>\n",
       "      <td>7</td>\n",
       "      <td>NaN</td>\n",
       "      <td>NaN</td>\n",
       "      <td>Just got sent this photo from Ruby #Alaska as ...</td>\n",
       "      <td>1</td>\n",
       "    </tr>\n",
       "  </tbody>\n",
       "</table>\n",
       "</div>"
      ],
      "text/plain": [
       "   id keyword location                                               text  \\\n",
       "0   1     NaN      NaN  Our Deeds are the Reason of this #earthquake M...   \n",
       "1   4     NaN      NaN             Forest fire near La Ronge Sask. Canada   \n",
       "2   5     NaN      NaN  All residents asked to 'shelter in place' are ...   \n",
       "3   6     NaN      NaN  13,000 people receive #wildfires evacuation or...   \n",
       "4   7     NaN      NaN  Just got sent this photo from Ruby #Alaska as ...   \n",
       "\n",
       "   target  \n",
       "0       1  \n",
       "1       1  \n",
       "2       1  \n",
       "3       1  \n",
       "4       1  "
      ]
     },
     "execution_count": 40,
     "metadata": {},
     "output_type": "execute_result"
    }
   ],
   "source": [
    "train_data = pd.read_csv('train.csv')\n",
    "train_data.head()"
   ]
  },
  {
   "cell_type": "markdown",
   "id": "13767105",
   "metadata": {},
   "source": [
    "### Preprocessing text for BERT"
   ]
  },
  {
   "cell_type": "code",
   "execution_count": 41,
   "id": "062b8f25",
   "metadata": {},
   "outputs": [],
   "source": [
    "# Preprocessing text into input format\n",
    "def preprocess(text):\n",
    "\n",
    "    # Removing Punctuation from the text\n",
    "    punct = [words for words in text[3] if words not in string.punctuation ]\n",
    "    words = ''.join(punct)\n",
    "    \n",
    "    # Tokenizing the text\n",
    "    tokens = nltk.word_tokenize(words)\n",
    "    tokens.append(str(text[1]))\n",
    "    tokens.append(str(text[2]))\n",
    "    \n",
    "    # Removing emojis, emails, numbers\n",
    "\n",
    "    lemmatized_output = ' '.join(tokens)\n",
    "    text = re.sub(r'^https?:\\/\\/.*[\\r\\n]*', '', lemmatized_output, flags=re.MULTILINE)\n",
    "    text = re.sub('<.*?>+', '', text)\n",
    "    \n",
    "    regrex_pattern = re.compile(pattern = \"[\"\n",
    "        u\"\\U0001F600-\\U0001F64F\" \n",
    "        u\"\\U0001F300-\\U0001F5FF\"  \n",
    "        u\"\\U0001F680-\\U0001F6FF\"  \n",
    "        u\"\\U0001F1E0-\\U0001F1FF\"  \n",
    "                           \"]+\", flags = re.UNICODE)\n",
    "    \n",
    "    text = regrex_pattern.sub(r'',text)\n",
    "    text = ''.join([i for i in text if not i.isdigit()])\n",
    "    \n",
    "    return text"
   ]
  },
  {
   "cell_type": "code",
   "execution_count": 42,
   "id": "c5c453b3",
   "metadata": {},
   "outputs": [
    {
     "data": {
      "text/html": [
       "<div>\n",
       "<style scoped>\n",
       "    .dataframe tbody tr th:only-of-type {\n",
       "        vertical-align: middle;\n",
       "    }\n",
       "\n",
       "    .dataframe tbody tr th {\n",
       "        vertical-align: top;\n",
       "    }\n",
       "\n",
       "    .dataframe thead th {\n",
       "        text-align: right;\n",
       "    }\n",
       "</style>\n",
       "<table border=\"1\" class=\"dataframe\">\n",
       "  <thead>\n",
       "    <tr style=\"text-align: right;\">\n",
       "      <th></th>\n",
       "      <th>id</th>\n",
       "      <th>keyword</th>\n",
       "      <th>location</th>\n",
       "      <th>text</th>\n",
       "      <th>target</th>\n",
       "      <th>preprocess_text</th>\n",
       "    </tr>\n",
       "  </thead>\n",
       "  <tbody>\n",
       "    <tr>\n",
       "      <th>0</th>\n",
       "      <td>1</td>\n",
       "      <td>NaN</td>\n",
       "      <td>NaN</td>\n",
       "      <td>Our Deeds are the Reason of this #earthquake M...</td>\n",
       "      <td>1</td>\n",
       "      <td>Our Deeds are the Reason of this earthquake Ma...</td>\n",
       "    </tr>\n",
       "    <tr>\n",
       "      <th>1</th>\n",
       "      <td>4</td>\n",
       "      <td>NaN</td>\n",
       "      <td>NaN</td>\n",
       "      <td>Forest fire near La Ronge Sask. Canada</td>\n",
       "      <td>1</td>\n",
       "      <td>Forest fire near La Ronge Sask Canada nan nan</td>\n",
       "    </tr>\n",
       "    <tr>\n",
       "      <th>2</th>\n",
       "      <td>5</td>\n",
       "      <td>NaN</td>\n",
       "      <td>NaN</td>\n",
       "      <td>All residents asked to 'shelter in place' are ...</td>\n",
       "      <td>1</td>\n",
       "      <td>All residents asked to shelter in place are be...</td>\n",
       "    </tr>\n",
       "    <tr>\n",
       "      <th>3</th>\n",
       "      <td>6</td>\n",
       "      <td>NaN</td>\n",
       "      <td>NaN</td>\n",
       "      <td>13,000 people receive #wildfires evacuation or...</td>\n",
       "      <td>1</td>\n",
       "      <td>people receive wildfires evacuation orders in...</td>\n",
       "    </tr>\n",
       "    <tr>\n",
       "      <th>4</th>\n",
       "      <td>7</td>\n",
       "      <td>NaN</td>\n",
       "      <td>NaN</td>\n",
       "      <td>Just got sent this photo from Ruby #Alaska as ...</td>\n",
       "      <td>1</td>\n",
       "      <td>Just got sent this photo from Ruby Alaska as s...</td>\n",
       "    </tr>\n",
       "  </tbody>\n",
       "</table>\n",
       "</div>"
      ],
      "text/plain": [
       "   id keyword location                                               text  \\\n",
       "0   1     NaN      NaN  Our Deeds are the Reason of this #earthquake M...   \n",
       "1   4     NaN      NaN             Forest fire near La Ronge Sask. Canada   \n",
       "2   5     NaN      NaN  All residents asked to 'shelter in place' are ...   \n",
       "3   6     NaN      NaN  13,000 people receive #wildfires evacuation or...   \n",
       "4   7     NaN      NaN  Just got sent this photo from Ruby #Alaska as ...   \n",
       "\n",
       "   target                                    preprocess_text  \n",
       "0       1  Our Deeds are the Reason of this earthquake Ma...  \n",
       "1       1      Forest fire near La Ronge Sask Canada nan nan  \n",
       "2       1  All residents asked to shelter in place are be...  \n",
       "3       1   people receive wildfires evacuation orders in...  \n",
       "4       1  Just got sent this photo from Ruby Alaska as s...  "
      ]
     },
     "execution_count": 42,
     "metadata": {},
     "output_type": "execute_result"
    }
   ],
   "source": [
    "train_data['preprocess_text'] = train_data.apply(lambda x: preprocess(x), axis=1)\n",
    "train_data.head()"
   ]
  },
  {
   "cell_type": "code",
   "execution_count": 43,
   "id": "35210f5d",
   "metadata": {},
   "outputs": [
    {
     "data": {
      "text/plain": [
       "((6090,), (1523,), (6090,), (1523,))"
      ]
     },
     "execution_count": 43,
     "metadata": {},
     "output_type": "execute_result"
    }
   ],
   "source": [
    "# Train Test split\n",
    "X_train, X_test, y_train, y_test = train_test_split(train_data['preprocess_text'], train_data['target'], test_size=0.2, random_state=42)\n",
    "X_train.shape, X_test.shape, y_train.shape, y_test.shape"
   ]
  },
  {
   "cell_type": "code",
   "execution_count": 44,
   "id": "a9721524",
   "metadata": {},
   "outputs": [],
   "source": [
    "import tensorflow_text\n",
    "\n",
    "max_seq_length = 128\n",
    "\n",
    "text_input = tf.keras.layers.Input(shape=(), dtype=tf.string) # Creating a input layer\n",
    "preprocessor = hub.KerasLayer(\n",
    "   \"https://tfhub.dev/tensorflow/bert_en_uncased_preprocess/3\") # Downloading BERT model for embedding\n",
    "encoder_inputs = preprocessor(text_input)\n",
    "encoder = hub.KerasLayer(\n",
    "    \"https://tfhub.dev/tensorflow/bert_en_uncased_L-12_H-768_A-12/4\",\n",
    "    trainable=True)  # Downloading the BERT model for training\n",
    "outputs = encoder(encoder_inputs)\n",
    "pooled_output = outputs[\"pooled_output\"]      # [batch_size, 768].\n",
    "sequence_output = outputs[\"sequence_output\"]  # [batch_size, seq_length, 768]."
   ]
  },
  {
   "cell_type": "code",
   "execution_count": 45,
   "id": "5539fb69",
   "metadata": {},
   "outputs": [],
   "source": [
    "# Adding Dense Layer and output layer for classification\n",
    "dense_1 = tf.keras.layers.Dense(64, activation='relu')(pooled_output)\n",
    "output = tf.keras.layers.Dense(1, activation='sigmoid', name='Output')(dense_1)"
   ]
  },
  {
   "cell_type": "code",
   "execution_count": 46,
   "id": "5906dbe1",
   "metadata": {},
   "outputs": [
    {
     "name": "stdout",
     "output_type": "stream",
     "text": [
      "Model: \"model\"\n",
      "__________________________________________________________________________________________________\n",
      "Layer (type)                    Output Shape         Param #     Connected to                     \n",
      "==================================================================================================\n",
      "input_1 (InputLayer)            [(None,)]            0                                            \n",
      "__________________________________________________________________________________________________\n",
      "keras_layer_1 (KerasLayer)      {'input_type_ids': ( 0           input_1[0][0]                    \n",
      "__________________________________________________________________________________________________\n",
      "keras_layer_2 (KerasLayer)      {'default': (None, 7 109482241   keras_layer_1[0][0]              \n",
      "                                                                 keras_layer_1[0][1]              \n",
      "                                                                 keras_layer_1[0][2]              \n",
      "__________________________________________________________________________________________________\n",
      "dense_6 (Dense)                 (None, 64)           49216       keras_layer_2[0][13]             \n",
      "__________________________________________________________________________________________________\n",
      "Output (Dense)                  (None, 1)            65          dense_6[0][0]                    \n",
      "==================================================================================================\n",
      "Total params: 109,531,522\n",
      "Trainable params: 109,531,521\n",
      "Non-trainable params: 1\n",
      "__________________________________________________________________________________________________\n"
     ]
    }
   ],
   "source": [
    "# Compiling the BERT Model\n",
    "bert_model = tf.keras.Model(text_input, output)\n",
    "bert_model.compile(optimizer=tf.keras.optimizers.Adam(learning_rate=1e-4),\n",
    "              loss=tf.keras.losses.BinaryCrossentropy(),\n",
    "              metrics=[tf.keras.metrics.BinaryAccuracy()])\n",
    "bert_model.summary()"
   ]
  },
  {
   "cell_type": "code",
   "execution_count": null,
   "id": "ff728d2b",
   "metadata": {},
   "outputs": [],
   "source": [
    "# Training the BERT model\n",
    "epochs = 2\n",
    "history = bert_model.fit(X_train, y_train,\n",
    "                    validation_data=(X_test, y_test),\n",
    "                    epochs=epochs,\n",
    "                    verbose=1)"
   ]
  },
  {
   "cell_type": "code",
   "execution_count": null,
   "id": "a9caafdd",
   "metadata": {},
   "outputs": [],
   "source": [
    "import os\n",
    "\n",
    "# Saving and loading the model\n",
    "bert_model.save('./bert')\n",
    "bert_model = tf.keras.models.load_model('./bert')\n",
    "bert_model.summary()"
   ]
  },
  {
   "cell_type": "code",
   "execution_count": null,
   "id": "d88e56ea",
   "metadata": {},
   "outputs": [],
   "source": [
    "# Performace metrics for BERT model\n",
    "y_pred = bert_model.predict(X_test)\n",
    "y_pred[y_pred > 0.5] = 1\n",
    "y_pred[y_pred <= 0.5] = 0\n",
    "bert_report = classification_report(y_test, y_pred, target_names=['Class 0', 'Class 1'])\n",
    "print(bert_report)\n",
    "cm = confusion_matrix(y_true=y_test, y_pred=y_pred)\n",
    "disp = ConfusionMatrixDisplay(confusion_matrix=cm, display_labels=['Negative Class', 'Positive Class'])\n",
    "disp.plot(values_format='d')"
   ]
  }
 ],
 "metadata": {
  "kernelspec": {
   "display_name": "Python 3",
   "language": "python",
   "name": "python3"
  },
  "language_info": {
   "codemirror_mode": {
    "name": "ipython",
    "version": 3
   },
   "file_extension": ".py",
   "mimetype": "text/x-python",
   "name": "python",
   "nbconvert_exporter": "python",
   "pygments_lexer": "ipython3",
   "version": "3.8.8"
  }
 },
 "nbformat": 4,
 "nbformat_minor": 5
}
